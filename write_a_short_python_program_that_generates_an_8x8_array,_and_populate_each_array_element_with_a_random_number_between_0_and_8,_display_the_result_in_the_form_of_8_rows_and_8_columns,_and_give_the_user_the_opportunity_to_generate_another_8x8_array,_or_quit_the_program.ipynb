{
  "cells": [
    {
      "cell_type": "markdown",
      "metadata": {
        "id": "view-in-github",
        "colab_type": "text"
      },
      "source": [
        "<a href=\"https://colab.research.google.com/github/mikerissi/-Page-23-of-27/blob/master/write_a_short_python_program_that_generates_an_8x8_array%2C_and_populate_each_array_element_with_a_random_number_between_0_and_8%2C_display_the_result_in_the_form_of_8_rows_and_8_columns%2C_and_give_the_user_the_opportunity_to_generate_another_8x8_array%2C_or_quit_the_program.ipynb\" target=\"_parent\"><img src=\"https://colab.research.google.com/assets/colab-badge.svg\" alt=\"Open In Colab\"/></a>"
      ]
    },
    {
      "cell_type": "code",
      "source": [
        "import random\n",
        "\n",
        "def generate_array():\n",
        "    array = []\n",
        "    for _ in range(8):\n",
        "        row = []\n",
        "        for _ in range(8):\n",
        "            row.append(random.randint(0, 8))\n",
        "        array.append(row)\n",
        "    return array\n",
        "\n",
        "def display_array(array):\n",
        "    for row in array:\n",
        "        for element in row:\n",
        "            print(f\"{element:2}\", end=\" \")\n",
        "        print()\n",
        "\n",
        "def main():\n",
        "    while True:\n",
        "        array = generate_array()\n",
        "        display_array(array)\n",
        "\n",
        "        choice = input(\"\\nDo you want to generate another array (Y/N)? \")\n",
        "        if choice.lower() != \"y\":\n",
        "            break\n",
        "\n",
        "if __name__ == \"__main__\":\n",
        "    main()"
      ],
      "outputs": [
        {
          "name": "stdout",
          "output_type": "stream",
          "text": [
            " 6  5  6  5  4  6  4  6 \n",
            " 4  4  1  8  2  7  4  4 \n",
            " 2  2  6  3  4  0  5  3 \n",
            " 7  4  6  1  7  3  0  5 \n",
            " 5  2  8  3  2  0  8  7 \n",
            " 3  4  1  2  8  2  0  7 \n",
            " 2  8  7  0  6  7  5  2 \n",
            " 1  2  5  0  7  5  2  7 \n",
            "\n",
            "Do you want to generate another array (Y/N)? y\n",
            " 0  1  8  4  0  3  0  6 \n",
            " 1  1  8  7  5  6  6  3 \n",
            " 2  5  2  0  6  3  0  7 \n",
            " 2  8  5  8  2  6  8  4 \n",
            " 3  6  7  7  4  8  5  3 \n",
            " 7  2  8  5  6  7  0  5 \n",
            " 0  4  8  0  5  1  6  8 \n",
            " 1  0  2  6  6  1  0  6 \n",
            "\n",
            "Do you want to generate another array (Y/N)? y\n",
            " 6  5  5  8  4  2  5  5 \n",
            " 3  4  2  8  8  1  1  1 \n",
            " 5  3  3  5  1  3  8  7 \n",
            " 4  5  6  0  2  5  6  5 \n",
            " 8  3  7  5  4  3  4  0 \n",
            " 8  6  7  4  7  7  4  7 \n",
            " 3  7  3  2  5  3  5  1 \n",
            " 6  5  5  2  2  7  1  7 \n",
            "\n",
            "Do you want to generate another array (Y/N)? y\n",
            " 4  2  3  0  0  5  7  5 \n",
            " 8  8  0  6  5  2  1  4 \n",
            " 6  4  5  2  7  7  4  8 \n",
            " 6  7  7  3  7  4  3  5 \n",
            " 7  7  4  3  1  7  4  2 \n",
            " 3  5  4  3  4  5  3  1 \n",
            " 1  0  0  3  0  3  4  0 \n",
            " 8  1  0  1  0  7  2  0 \n",
            "\n",
            "Do you want to generate another array (Y/N)? y\n",
            " 3  5  5  7  2  7  7  4 \n",
            " 2  4  7  7  6  1  8  8 \n",
            " 8  5  6  8  3  7  2  0 \n",
            " 3  4  1  4  5  1  6  0 \n",
            " 1  2  0  4  6  0  2  6 \n",
            " 8  1  3  1  3  8  8  3 \n",
            " 3  2  8  1  5  0  3  5 \n",
            " 2  8  0  1  0  2  1  2 \n",
            "\n",
            "Do you want to generate another array (Y/N)? n\n"
          ]
        }
      ],
      "execution_count": 1,
      "metadata": {
        "colab": {
          "base_uri": "https://localhost:8080/"
        },
        "id": "Qq6K2pEVFF4Q",
        "outputId": "3cd052a7-8626-4639-87a4-ac19e7f90736"
      }
    }
  ],
  "metadata": {
    "colab": {
      "provenance": [],
      "include_colab_link": true
    },
    "kernelspec": {
      "display_name": "Python 3",
      "name": "python3"
    }
  },
  "nbformat": 4,
  "nbformat_minor": 0
}