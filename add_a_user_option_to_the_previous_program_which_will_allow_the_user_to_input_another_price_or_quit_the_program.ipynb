{
  "cells": [
    {
      "cell_type": "markdown",
      "metadata": {
        "id": "view-in-github",
        "colab_type": "text"
      },
      "source": [
        "<a href=\"https://colab.research.google.com/github/mikerissi/-Page-23-of-27/blob/master/add_a_user_option_to_the_previous_program_which_will_allow_the_user_to_input_another_price_or_quit_the_program.ipynb\" target=\"_parent\"><img src=\"https://colab.research.google.com/assets/colab-badge.svg\" alt=\"Open In Colab\"/></a>"
      ]
    },
    {
      "cell_type": "markdown",
      "source": [
        "Sure, here is the code with the added user option:"
      ],
      "metadata": {
        "id": "SYbnbdOxNoM_"
      }
    },
    {
      "cell_type": "code",
      "source": [
        "def change_calculator(cents):\n",
        "    quarters = cents // 25\n",
        "    cents -= quarters * 25\n",
        "    dimes = cents // 10\n",
        "    cents -= dimes * 10\n",
        "    nickels = cents // 5\n",
        "    cents -= nickels * 5\n",
        "    pennies = cents\n",
        "    return quarters, dimes, nickels, pennies\n",
        "\n",
        "user_input = input(\"Enter a price in cents (or 'quit' to exit): \")\n",
        "\n",
        "while user_input != \"quit\":\n",
        "    cents = int(user_input)\n",
        "    quarters, dimes, nickels, pennies = change_calculator(cents)\n",
        "    print(f\"Quarters: {quarters}\")\n",
        "    print(f\"Dimes: {dimes}\")\n",
        "    print(f\"Nickels: {nickels}\")\n",
        "    print(f\"Pennies: {pennies}\")\n",
        "    user_input = input(\"Enter another price in cents (or 'quit' to exit): \")"
      ],
      "outputs": [
        {
          "name": "stdout",
          "output_type": "stream",
          "text": [
            "Enter a price in cents (or 'quit' to exit): 88\n",
            "Quarters: 3\n",
            "Dimes: 1\n",
            "Nickels: 0\n",
            "Pennies: 3\n",
            "Enter another price in cents (or 'quit' to exit): 654\n",
            "Quarters: 26\n",
            "Dimes: 0\n",
            "Nickels: 0\n",
            "Pennies: 4\n",
            "Enter another price in cents (or 'quit' to exit): 6544\n",
            "Quarters: 261\n",
            "Dimes: 1\n",
            "Nickels: 1\n",
            "Pennies: 4\n",
            "Enter another price in cents (or 'quit' to exit): q\n"
          ]
        },
        {
          "output_type": "error",
          "ename": "ValueError",
          "evalue": "ignored",
          "traceback": [
            "\u001b[0;31m---------------------------------------------------------------------------\u001b[0m",
            "\u001b[0;31mValueError\u001b[0m                                Traceback (most recent call last)",
            "\u001b[0;32m<ipython-input-1-ec02e6858667>\u001b[0m in \u001b[0;36m<cell line: 13>\u001b[0;34m()\u001b[0m\n\u001b[1;32m     12\u001b[0m \u001b[0;34m\u001b[0m\u001b[0m\n\u001b[1;32m     13\u001b[0m \u001b[0;32mwhile\u001b[0m \u001b[0muser_input\u001b[0m \u001b[0;34m!=\u001b[0m \u001b[0;34m\"quit\"\u001b[0m\u001b[0;34m:\u001b[0m\u001b[0;34m\u001b[0m\u001b[0;34m\u001b[0m\u001b[0m\n\u001b[0;32m---> 14\u001b[0;31m     \u001b[0mcents\u001b[0m \u001b[0;34m=\u001b[0m \u001b[0mint\u001b[0m\u001b[0;34m(\u001b[0m\u001b[0muser_input\u001b[0m\u001b[0;34m)\u001b[0m\u001b[0;34m\u001b[0m\u001b[0;34m\u001b[0m\u001b[0m\n\u001b[0m\u001b[1;32m     15\u001b[0m     \u001b[0mquarters\u001b[0m\u001b[0;34m,\u001b[0m \u001b[0mdimes\u001b[0m\u001b[0;34m,\u001b[0m \u001b[0mnickels\u001b[0m\u001b[0;34m,\u001b[0m \u001b[0mpennies\u001b[0m \u001b[0;34m=\u001b[0m \u001b[0mchange_calculator\u001b[0m\u001b[0;34m(\u001b[0m\u001b[0mcents\u001b[0m\u001b[0;34m)\u001b[0m\u001b[0;34m\u001b[0m\u001b[0;34m\u001b[0m\u001b[0m\n\u001b[1;32m     16\u001b[0m     \u001b[0mprint\u001b[0m\u001b[0;34m(\u001b[0m\u001b[0;34mf\"Quarters: {quarters}\"\u001b[0m\u001b[0;34m)\u001b[0m\u001b[0;34m\u001b[0m\u001b[0;34m\u001b[0m\u001b[0m\n",
            "\u001b[0;31mValueError\u001b[0m: invalid literal for int() with base 10: 'q'"
          ]
        }
      ],
      "execution_count": 1,
      "metadata": {
        "colab": {
          "base_uri": "https://localhost:8080/",
          "height": 524
        },
        "id": "1Nqew-qHNoNC",
        "outputId": "1edcd4c6-98a1-419b-d10b-a57cab7bf1cd"
      }
    },
    {
      "cell_type": "markdown",
      "source": [
        "This code will continue to prompt the user for a price in cents until they enter \"quit\". For each price entered, the program will calculate and display the change in pennies, nickels, dimes, and quarters."
      ],
      "metadata": {
        "id": "A_o45T-ZNoNE"
      }
    }
  ],
  "metadata": {
    "colab": {
      "provenance": [],
      "include_colab_link": true
    },
    "kernelspec": {
      "display_name": "Python 3",
      "name": "python3"
    }
  },
  "nbformat": 4,
  "nbformat_minor": 0
}