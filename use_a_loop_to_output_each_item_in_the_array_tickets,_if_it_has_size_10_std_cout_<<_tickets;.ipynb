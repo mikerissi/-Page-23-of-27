{
  "cells": [
    {
      "cell_type": "markdown",
      "metadata": {
        "id": "view-in-github",
        "colab_type": "text"
      },
      "source": [
        "<a href=\"https://colab.research.google.com/github/mikerissi/-Page-23-of-27/blob/master/use_a_loop_to_output_each_item_in_the_array_tickets%2C_if_it_has_size_10_std_cout_%3C%3C_tickets%3B.ipynb\" target=\"_parent\"><img src=\"https://colab.research.google.com/assets/colab-badge.svg\" alt=\"Open In Colab\"/></a>"
      ]
    },
    {
      "cell_type": "markdown",
      "source": [
        "Sure, here is the code:"
      ],
      "metadata": {
        "id": "rrzDquDzOreV"
      }
    },
    {
      "cell_type": "code",
      "source": [
        "tickets = [1, 2, 3, 4, 5, 6, 7, 8, 9, 10]\n",
        "\n",
        "if len(tickets) == 10:\n",
        "    for ticket in tickets:\n",
        "        print(ticket)"
      ],
      "outputs": [],
      "execution_count": null,
      "metadata": {
        "id": "GMjXkySuOrec"
      }
    },
    {
      "cell_type": "markdown",
      "source": [
        "This code outputs the following:\n",
        "\n",
        "```\n",
        "1\n",
        "2\n",
        "3\n",
        "4\n",
        "5\n",
        "6\n",
        "7\n",
        "8\n",
        "9\n",
        "10\n",
        "```\n",
        "\n",
        "As you can see, the loop iterates over the `tickets` list and prints each item to the console."
      ],
      "metadata": {
        "id": "IWxdnzlzOref"
      }
    }
  ],
  "metadata": {
    "colab": {
      "provenance": [],
      "include_colab_link": true
    },
    "kernelspec": {
      "display_name": "Python 3",
      "name": "python3"
    }
  },
  "nbformat": 4,
  "nbformat_minor": 0
}